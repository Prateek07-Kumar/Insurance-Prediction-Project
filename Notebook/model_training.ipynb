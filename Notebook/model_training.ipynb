{
 "cells": [
  {
   "cell_type": "markdown",
   "metadata": {},
   "source": [
    "### Model Training on Insurance Dataset"
   ]
  },
  {
   "cell_type": "code",
   "execution_count": 2,
   "metadata": {},
   "outputs": [],
   "source": [
    "import pandas as pd\n",
    "import numpy as np\n",
    "import seaborn as sns\n",
    "import matplotlib.pyplot as plt \n",
    "import sklearn"
   ]
  },
  {
   "cell_type": "code",
   "execution_count": 3,
   "metadata": {},
   "outputs": [
    {
     "data": {
      "text/html": [
       "<div>\n",
       "<style scoped>\n",
       "    .dataframe tbody tr th:only-of-type {\n",
       "        vertical-align: middle;\n",
       "    }\n",
       "\n",
       "    .dataframe tbody tr th {\n",
       "        vertical-align: top;\n",
       "    }\n",
       "\n",
       "    .dataframe thead th {\n",
       "        text-align: right;\n",
       "    }\n",
       "</style>\n",
       "<table border=\"1\" class=\"dataframe\">\n",
       "  <thead>\n",
       "    <tr style=\"text-align: right;\">\n",
       "      <th></th>\n",
       "      <th>age</th>\n",
       "      <th>sex</th>\n",
       "      <th>bmi</th>\n",
       "      <th>children</th>\n",
       "      <th>smoker</th>\n",
       "      <th>region</th>\n",
       "      <th>expenses</th>\n",
       "    </tr>\n",
       "  </thead>\n",
       "  <tbody>\n",
       "    <tr>\n",
       "      <th>0</th>\n",
       "      <td>19</td>\n",
       "      <td>female</td>\n",
       "      <td>27.9</td>\n",
       "      <td>0</td>\n",
       "      <td>yes</td>\n",
       "      <td>southwest</td>\n",
       "      <td>16884.92</td>\n",
       "    </tr>\n",
       "    <tr>\n",
       "      <th>1</th>\n",
       "      <td>18</td>\n",
       "      <td>male</td>\n",
       "      <td>33.8</td>\n",
       "      <td>1</td>\n",
       "      <td>no</td>\n",
       "      <td>southeast</td>\n",
       "      <td>1725.55</td>\n",
       "    </tr>\n",
       "    <tr>\n",
       "      <th>2</th>\n",
       "      <td>28</td>\n",
       "      <td>male</td>\n",
       "      <td>33.0</td>\n",
       "      <td>3</td>\n",
       "      <td>no</td>\n",
       "      <td>southeast</td>\n",
       "      <td>4449.46</td>\n",
       "    </tr>\n",
       "    <tr>\n",
       "      <th>3</th>\n",
       "      <td>33</td>\n",
       "      <td>male</td>\n",
       "      <td>22.7</td>\n",
       "      <td>0</td>\n",
       "      <td>no</td>\n",
       "      <td>northwest</td>\n",
       "      <td>21984.47</td>\n",
       "    </tr>\n",
       "    <tr>\n",
       "      <th>4</th>\n",
       "      <td>32</td>\n",
       "      <td>male</td>\n",
       "      <td>28.9</td>\n",
       "      <td>0</td>\n",
       "      <td>no</td>\n",
       "      <td>northwest</td>\n",
       "      <td>3866.86</td>\n",
       "    </tr>\n",
       "  </tbody>\n",
       "</table>\n",
       "</div>"
      ],
      "text/plain": [
       "   age     sex   bmi  children smoker     region  expenses\n",
       "0   19  female  27.9         0    yes  southwest  16884.92\n",
       "1   18    male  33.8         1     no  southeast   1725.55\n",
       "2   28    male  33.0         3     no  southeast   4449.46\n",
       "3   33    male  22.7         0     no  northwest  21984.47\n",
       "4   32    male  28.9         0     no  northwest   3866.86"
      ]
     },
     "execution_count": 3,
     "metadata": {},
     "output_type": "execute_result"
    }
   ],
   "source": [
    "dataset_downlode_url = \"D:\\Insurance-prediction-Project\\Insurance-Prediction-Project\\insurance.csv\"\n",
    "data_df = pd.read_csv(dataset_downlode_url)\n",
    "data_df.head()"
   ]
  },
  {
   "cell_type": "code",
   "execution_count": 4,
   "metadata": {},
   "outputs": [
    {
     "data": {
      "text/plain": [
       "(1338, 7)"
      ]
     },
     "execution_count": 4,
     "metadata": {},
     "output_type": "execute_result"
    }
   ],
   "source": [
    "data_df.shape"
   ]
  },
  {
   "cell_type": "code",
   "execution_count": 5,
   "metadata": {},
   "outputs": [
    {
     "data": {
      "text/plain": [
       "age         0\n",
       "sex         0\n",
       "bmi         0\n",
       "children    0\n",
       "smoker      0\n",
       "region      0\n",
       "expenses    0\n",
       "dtype: int64"
      ]
     },
     "execution_count": 5,
     "metadata": {},
     "output_type": "execute_result"
    }
   ],
   "source": [
    "data_df.isnull().sum()"
   ]
  },
  {
   "cell_type": "code",
   "execution_count": 6,
   "metadata": {},
   "outputs": [
    {
     "data": {
      "text/plain": [
       "1"
      ]
     },
     "execution_count": 6,
     "metadata": {},
     "output_type": "execute_result"
    }
   ],
   "source": [
    "data_df.duplicated().sum()"
   ]
  },
  {
   "cell_type": "code",
   "execution_count": 7,
   "metadata": {},
   "outputs": [],
   "source": [
    "data_df.drop_duplicates(inplace=True)"
   ]
  },
  {
   "cell_type": "code",
   "execution_count": 8,
   "metadata": {},
   "outputs": [
    {
     "data": {
      "text/plain": [
       "(1337, 7)"
      ]
     },
     "execution_count": 8,
     "metadata": {},
     "output_type": "execute_result"
    }
   ],
   "source": [
    "data_df.shape"
   ]
  },
  {
   "cell_type": "code",
   "execution_count": 9,
   "metadata": {},
   "outputs": [
    {
     "name": "stdout",
     "output_type": "stream",
     "text": [
      "<class 'pandas.core.frame.DataFrame'>\n",
      "Int64Index: 1337 entries, 0 to 1337\n",
      "Data columns (total 7 columns):\n",
      " #   Column    Non-Null Count  Dtype  \n",
      "---  ------    --------------  -----  \n",
      " 0   age       1337 non-null   int64  \n",
      " 1   sex       1337 non-null   object \n",
      " 2   bmi       1337 non-null   float64\n",
      " 3   children  1337 non-null   int64  \n",
      " 4   smoker    1337 non-null   object \n",
      " 5   region    1337 non-null   object \n",
      " 6   expenses  1337 non-null   float64\n",
      "dtypes: float64(2), int64(2), object(3)\n",
      "memory usage: 83.6+ KB\n"
     ]
    }
   ],
   "source": [
    "data_df.info()"
   ]
  },
  {
   "cell_type": "code",
   "execution_count": 10,
   "metadata": {},
   "outputs": [
    {
     "data": {
      "text/plain": [
       "age           int64\n",
       "sex          object\n",
       "bmi         float64\n",
       "children      int64\n",
       "smoker       object\n",
       "region       object\n",
       "expenses    float64\n",
       "dtype: object"
      ]
     },
     "execution_count": 10,
     "metadata": {},
     "output_type": "execute_result"
    }
   ],
   "source": [
    "data_df.dtypes"
   ]
  },
  {
   "cell_type": "code",
   "execution_count": 11,
   "metadata": {},
   "outputs": [
    {
     "data": {
      "text/html": [
       "<div>\n",
       "<style scoped>\n",
       "    .dataframe tbody tr th:only-of-type {\n",
       "        vertical-align: middle;\n",
       "    }\n",
       "\n",
       "    .dataframe tbody tr th {\n",
       "        vertical-align: top;\n",
       "    }\n",
       "\n",
       "    .dataframe thead th {\n",
       "        text-align: right;\n",
       "    }\n",
       "</style>\n",
       "<table border=\"1\" class=\"dataframe\">\n",
       "  <thead>\n",
       "    <tr style=\"text-align: right;\">\n",
       "      <th></th>\n",
       "      <th>count</th>\n",
       "      <th>mean</th>\n",
       "      <th>std</th>\n",
       "      <th>min</th>\n",
       "      <th>25%</th>\n",
       "      <th>50%</th>\n",
       "      <th>75%</th>\n",
       "      <th>max</th>\n",
       "    </tr>\n",
       "  </thead>\n",
       "  <tbody>\n",
       "    <tr>\n",
       "      <th>age</th>\n",
       "      <td>1337.0</td>\n",
       "      <td>39.222139</td>\n",
       "      <td>14.044333</td>\n",
       "      <td>18.00</td>\n",
       "      <td>27.00</td>\n",
       "      <td>39.00</td>\n",
       "      <td>51.00</td>\n",
       "      <td>64.00</td>\n",
       "    </tr>\n",
       "    <tr>\n",
       "      <th>bmi</th>\n",
       "      <td>1337.0</td>\n",
       "      <td>30.665520</td>\n",
       "      <td>6.100664</td>\n",
       "      <td>16.00</td>\n",
       "      <td>26.30</td>\n",
       "      <td>30.40</td>\n",
       "      <td>34.70</td>\n",
       "      <td>53.10</td>\n",
       "    </tr>\n",
       "    <tr>\n",
       "      <th>children</th>\n",
       "      <td>1337.0</td>\n",
       "      <td>1.095737</td>\n",
       "      <td>1.205571</td>\n",
       "      <td>0.00</td>\n",
       "      <td>0.00</td>\n",
       "      <td>1.00</td>\n",
       "      <td>2.00</td>\n",
       "      <td>5.00</td>\n",
       "    </tr>\n",
       "    <tr>\n",
       "      <th>expenses</th>\n",
       "      <td>1337.0</td>\n",
       "      <td>13279.121638</td>\n",
       "      <td>12110.359657</td>\n",
       "      <td>1121.87</td>\n",
       "      <td>4746.34</td>\n",
       "      <td>9386.16</td>\n",
       "      <td>16657.72</td>\n",
       "      <td>63770.43</td>\n",
       "    </tr>\n",
       "  </tbody>\n",
       "</table>\n",
       "</div>"
      ],
      "text/plain": [
       "           count          mean           std      min      25%      50%  \\\n",
       "age       1337.0     39.222139     14.044333    18.00    27.00    39.00   \n",
       "bmi       1337.0     30.665520      6.100664    16.00    26.30    30.40   \n",
       "children  1337.0      1.095737      1.205571     0.00     0.00     1.00   \n",
       "expenses  1337.0  13279.121638  12110.359657  1121.87  4746.34  9386.16   \n",
       "\n",
       "               75%       max  \n",
       "age          51.00     64.00  \n",
       "bmi          34.70     53.10  \n",
       "children      2.00      5.00  \n",
       "expenses  16657.72  63770.43  "
      ]
     },
     "execution_count": 11,
     "metadata": {},
     "output_type": "execute_result"
    }
   ],
   "source": [
    "data_df.describe().T"
   ]
  },
  {
   "cell_type": "code",
   "execution_count": 12,
   "metadata": {},
   "outputs": [
    {
     "data": {
      "text/plain": [
       "['age', 'bmi', 'children', 'expenses']"
      ]
     },
     "execution_count": 12,
     "metadata": {},
     "output_type": "execute_result"
    }
   ],
   "source": [
    "numerical_features = [i for i in data_df.columns if data_df[i].dtype !='object']\n",
    "numerical_features"
   ]
  },
  {
   "cell_type": "code",
   "execution_count": 13,
   "metadata": {},
   "outputs": [
    {
     "data": {
      "text/plain": [
       "['sex', 'smoker', 'region']"
      ]
     },
     "execution_count": 13,
     "metadata": {},
     "output_type": "execute_result"
    }
   ],
   "source": [
    "categorical_features = [i for i in data_df.columns if i not in numerical_features]\n",
    "categorical_features"
   ]
  },
  {
   "cell_type": "code",
   "execution_count": 14,
   "metadata": {},
   "outputs": [
    {
     "data": {
      "text/plain": [
       "['children']"
      ]
     },
     "execution_count": 14,
     "metadata": {},
     "output_type": "execute_result"
    }
   ],
   "source": [
    "discreate_features = [i for i in numerical_features if len(data_df[i].unique())<=30]\n",
    "discreate_features"
   ]
  },
  {
   "cell_type": "code",
   "execution_count": 15,
   "metadata": {},
   "outputs": [
    {
     "data": {
      "text/plain": [
       "['age', 'bmi', 'expenses']"
      ]
     },
     "execution_count": 15,
     "metadata": {},
     "output_type": "execute_result"
    }
   ],
   "source": [
    "continous_features = [i for i in numerical_features if i not in discreate_features]\n",
    "continous_features"
   ]
  },
  {
   "cell_type": "code",
   "execution_count": 16,
   "metadata": {},
   "outputs": [
    {
     "name": "stderr",
     "output_type": "stream",
     "text": [
      "C:\\Users\\Public\\Documents\\iSkysoft\\CreatorTemp\\ipykernel_8044\\191070385.py:2: FutureWarning: The default value of numeric_only in DataFrame.corr is deprecated. In a future version, it will default to False. Select only valid columns or specify the value of numeric_only to silence this warning.\n",
      "  sns.heatmap(data_df.corr(), annot=True, cmap='RdBu_r')\n"
     ]
    },
    {
     "data": {
      "text/plain": [
       "<function matplotlib.pyplot.show(close=None, block=None)>"
      ]
     },
     "execution_count": 16,
     "metadata": {},
     "output_type": "execute_result"
    },
    {
     "data": {
      "image/png": "[encoded data removed]",
      "text/plain": [
       "<Figure size 1000x800 with 2 Axes>"
      ]
     },
     "metadata": {},
     "output_type": "display_data"
    }
   ],
   "source": [
    "plt.figure(figsize=(10,8))\n",
    "sns.heatmap(data_df.corr(), annot=True, cmap='RdBu_r')\n",
    "plt.show"
   ]
  },
  {
   "cell_type": "code",
   "execution_count": 17,
   "metadata": {},
   "outputs": [
    {
     "data": {
      "image/png": "[encoded data removed]",
      "text/plain": [
       "<Figure size 1000x800 with 3 Axes>"
      ]
     },
     "metadata": {},
     "output_type": "display_data"
    }
   ],
   "source": [
    "plt.figure(figsize=(10,8))\n",
    "for i in range(0,len(continous_features)):\n",
    "    plt.subplot(3,2,i+1)\n",
    "    sns.boxenplot(x=data_df[continous_features[i]])\n",
    "    plt.xlabel(continous_features[i])"
   ]
  },
  {
   "cell_type": "code",
   "execution_count": 18,
   "metadata": {},
   "outputs": [
    {
     "data": {
      "text/plain": [
       "bmi         0.284463\n",
       "expenses    1.515391\n",
       "dtype: float64"
      ]
     },
     "execution_count": 18,
     "metadata": {},
     "output_type": "execute_result"
    }
   ],
   "source": [
    "# checking skweness\n",
    "\n",
    "outliers_features = ['bmi', 'expenses']\n",
    "data_df[outliers_features].skew(axis=0, skipna=True)"
   ]
  },
  {
   "cell_type": "code",
   "execution_count": 19,
   "metadata": {},
   "outputs": [
    {
     "name": "stdout",
     "output_type": "stream",
     "text": [
      "For ----bmi---\n",
      "Upper limit 47.300000000000004\n",
      "Lower limit 13.699999999999998\n",
      "No.of outliers above upper limit is 9\n",
      "No.of outliers below lower limit is 0\n",
      "Total no.of outliers are 9\n",
      "For ----expenses---\n",
      "Upper limit 34524.79\n",
      "Lower limit -13120.73\n",
      "No.of outliers above upper limit is 139\n",
      "No.of outliers below lower limit is 0\n",
      "Total no.of outliers are 139\n"
     ]
    }
   ],
   "source": [
    "for outliers in outliers_features:\n",
    "    p25 = data_df[outliers].quantile(0.25)\n",
    "    p75 = data_df[outliers].quantile(0.75)\n",
    "    \n",
    "    iqr = p75 - p25\n",
    "    \n",
    "    data_upper_limit = p75 + 1.5 * iqr\n",
    "    data_lower_limit = p25 - 1.5 * iqr\n",
    "    print(f\"For ----{outliers}---\")\n",
    "    print(\"Upper limit\",data_upper_limit)\n",
    "    print(\"Lower limit\",data_lower_limit)\n",
    "    \n",
    "    print(f\"No.of outliers above upper limit is {len(data_df.loc[(data_df[outliers]> data_upper_limit), outliers])}\")\n",
    "    print(f\"No.of outliers below lower limit is {len(data_df.loc[(data_df[outliers] < data_lower_limit), outliers])}\")\n",
    "    print(f\"Total no.of outliers are {len(data_df.loc[(data_df[outliers]> data_upper_limit), outliers]) + len(data_df.loc[(data_df[outliers] < data_lower_limit), outliers])}\")\n",
    "\n",
    "    data_df.loc[(data_df[outliers]> data_upper_limit), outliers] = data_upper_limit\n",
    "    data_df.loc[(data_df[outliers]< data_lower_limit), outliers] = data_lower_limit\n",
    "    \n",
    "    \n",
    "    "
   ]
  },
  {
   "cell_type": "code",
   "execution_count": 20,
   "metadata": {},
   "outputs": [
    {
     "data": {
      "text/plain": [
       "bmi         0.233132\n",
       "expenses    1.084698\n",
       "dtype: float64"
      ]
     },
     "execution_count": 20,
     "metadata": {},
     "output_type": "execute_result"
    }
   ],
   "source": [
    "\n",
    "data_df[outliers_features].skew(axis=0 , skipna= True)"
   ]
  },
  {
   "cell_type": "code",
   "execution_count": 21,
   "metadata": {},
   "outputs": [
    {
     "data": {
      "image/png": "[encoded data removed]",
      "text/plain": [
       "<Figure size 1200x1000 with 2 Axes>"
      ]
     },
     "metadata": {},
     "output_type": "display_data"
    }
   ],
   "source": [
    "plt.figure(figsize=(12,10))\n",
    "for i in range(0,len(outliers_features)):\n",
    "    plt.subplot(3, 2, i+1)\n",
    "    sns.boxplot(x = data_df[outliers_features[i]])\n",
    "    plt.xlabel(outliers_features[i])"
   ]
  },
  {
   "cell_type": "code",
   "execution_count": 23,
   "metadata": {},
   "outputs": [
    {
     "data": {
      "image/png": "[encoded data removed]",
      "text/plain": [
       "<Figure size 1400x1200 with 2 Axes>"
      ]
     },
     "metadata": {},
     "output_type": "display_data"
    }
   ],
   "source": [
    "plt.figure(figsize=(14, 12))\n",
    "for i, outlier in enumerate(outliers_features):\n",
    "    plt.subplot(4, 2, i+1)\n",
    "    sns.kdeplot(x=data_df[outlier], color='orange')\n",
    "    plt.xlabel(outlier)"
   ]
  },
  {
   "cell_type": "markdown",
   "metadata": {},
   "source": [
    "Before outliers handling the above plots were not normally distributed. Expense plot was like power law shaped. Now after outliers capping the distribution of the data now in Normal."
   ]
  },
  {
   "cell_type": "markdown",
   "metadata": {},
   "source": [
    "**---> Feature Encoding and Feature Scaling**\n",
    "\n",
    "Now we will do encoding using OneHotEncoder for our categorical features as machine learnig only understands numbers. We will also do feature scaling of our numerical features using SatandardScalar.\n",
    "\n",
    "But before that we need to split our data into independent columns (varibale X ) and dependent column (variable y).Lets do that\n",
    "\n"
   ]
  },
  {
   "cell_type": "markdown",
   "metadata": {},
   "source": [
    "#### Feature Selection"
   ]
  },
  {
   "cell_type": "code",
   "execution_count": 24,
   "metadata": {},
   "outputs": [],
   "source": [
    "# Splitting data into independent and dependent columns X, y\n",
    "\n",
    "X = data_df.drop(['expenses'], axis = 1)\n",
    "y = data_df['expenses']"
   ]
  },
  {
   "cell_type": "code",
   "execution_count": 25,
   "metadata": {},
   "outputs": [
    {
     "data": {
      "text/html": [
       "<div>\n",
       "<style scoped>\n",
       "    .dataframe tbody tr th:only-of-type {\n",
       "        vertical-align: middle;\n",
       "    }\n",
       "\n",
       "    .dataframe tbody tr th {\n",
       "        vertical-align: top;\n",
       "    }\n",
       "\n",
       "    .dataframe thead th {\n",
       "        text-align: right;\n",
       "    }\n",
       "</style>\n",
       "<table border=\"1\" class=\"dataframe\">\n",
       "  <thead>\n",
       "    <tr style=\"text-align: right;\">\n",
       "      <th></th>\n",
       "      <th>age</th>\n",
       "      <th>sex</th>\n",
       "      <th>bmi</th>\n",
       "      <th>children</th>\n",
       "      <th>smoker</th>\n",
       "      <th>region</th>\n",
       "    </tr>\n",
       "  </thead>\n",
       "  <tbody>\n",
       "    <tr>\n",
       "      <th>0</th>\n",
       "      <td>19</td>\n",
       "      <td>female</td>\n",
       "      <td>27.9</td>\n",
       "      <td>0</td>\n",
       "      <td>yes</td>\n",
       "      <td>southwest</td>\n",
       "    </tr>\n",
       "    <tr>\n",
       "      <th>1</th>\n",
       "      <td>18</td>\n",
       "      <td>male</td>\n",
       "      <td>33.8</td>\n",
       "      <td>1</td>\n",
       "      <td>no</td>\n",
       "      <td>southeast</td>\n",
       "    </tr>\n",
       "    <tr>\n",
       "      <th>2</th>\n",
       "      <td>28</td>\n",
       "      <td>male</td>\n",
       "      <td>33.0</td>\n",
       "      <td>3</td>\n",
       "      <td>no</td>\n",
       "      <td>southeast</td>\n",
       "    </tr>\n",
       "    <tr>\n",
       "      <th>3</th>\n",
       "      <td>33</td>\n",
       "      <td>male</td>\n",
       "      <td>22.7</td>\n",
       "      <td>0</td>\n",
       "      <td>no</td>\n",
       "      <td>northwest</td>\n",
       "    </tr>\n",
       "    <tr>\n",
       "      <th>4</th>\n",
       "      <td>32</td>\n",
       "      <td>male</td>\n",
       "      <td>28.9</td>\n",
       "      <td>0</td>\n",
       "      <td>no</td>\n",
       "      <td>northwest</td>\n",
       "    </tr>\n",
       "  </tbody>\n",
       "</table>\n",
       "</div>"
      ],
      "text/plain": [
       "   age     sex   bmi  children smoker     region\n",
       "0   19  female  27.9         0    yes  southwest\n",
       "1   18    male  33.8         1     no  southeast\n",
       "2   28    male  33.0         3     no  southeast\n",
       "3   33    male  22.7         0     no  northwest\n",
       "4   32    male  28.9         0     no  northwest"
      ]
     },
     "execution_count": 25,
     "metadata": {},
     "output_type": "execute_result"
    }
   ],
   "source": [
    "X.head()"
   ]
  },
  {
   "cell_type": "code",
   "execution_count": 28,
   "metadata": {},
   "outputs": [
    {
     "data": {
      "text/plain": [
       "0    16884.92\n",
       "1     1725.55\n",
       "2     4449.46\n",
       "3    21984.47\n",
       "4     3866.86\n",
       "Name: expenses, dtype: float64"
      ]
     },
     "execution_count": 28,
     "metadata": {},
     "output_type": "execute_result"
    }
   ],
   "source": [
    "y.head()"
   ]
  },
  {
   "cell_type": "code",
   "execution_count": 29,
   "metadata": {},
   "outputs": [],
   "source": [
    "numerical_features_tr = X.select_dtypes(exclude='object').columns\n",
    "categorical_features_tr = X.select_dtypes(include='object').columns "
   ]
  },
  {
   "cell_type": "markdown",
   "metadata": {},
   "source": [
    "Now we will use Column Transformer because this estimator allows different columns or column subsets of the input to be transformed separately and the features generated by each transformer will be concatenated to form a single feature space. This estimater takes list of tuples (name, transformer, columns) specifying the transformer objects to be applied to subsets of the data."
   ]
  },
  {
   "cell_type": "code",
   "execution_count": 31,
   "metadata": {},
   "outputs": [],
   "source": [
    "from sklearn.compose import ColumnTransformer\n",
    "from sklearn.preprocessing import OneHotEncoder, StandardScaler\n",
    "\n",
    "st_scaler = StandardScaler()\n",
    "one_encoder = OneHotEncoder()\n",
    "\n",
    "preprocessor = ColumnTransformer(\n",
    "    [('OneHotEncoder', one_encoder, categorical_features_tr),\n",
    "     (\"StandardScaler\", st_scaler, numerical_features_tr)]\n",
    ")\n",
    "\n",
    "X = preprocessor.fit_transform(X)"
   ]
  },
  {
   "cell_type": "markdown",
   "metadata": {},
   "source": [
    "#### Train and Test split"
   ]
  },
  {
   "cell_type": "code",
   "execution_count": 32,
   "metadata": {},
   "outputs": [],
   "source": [
    "from sklearn.model_selection import train_test_split\n",
    "\n",
    "X_train, X_test, y_train, y_test = train_test_split(X,y, test_size=0.2, random_state=42)"
   ]
  },
  {
   "cell_type": "code",
   "execution_count": 34,
   "metadata": {},
   "outputs": [
    {
     "data": {
      "text/plain": [
       "((1069, 11), (268, 11))"
      ]
     },
     "execution_count": 34,
     "metadata": {},
     "output_type": "execute_result"
    }
   ],
   "source": [
    "X_train.shape, X_test.shape"
   ]
  },
  {
   "cell_type": "markdown",
   "metadata": {},
   "source": [
    "#### Model Selection\n",
    "\n",
    "- Now we will use various regressions models but for now we will use default values i.e without hyper parameter tunning.\n",
    "\n",
    "- We will also chose the best parameter for our model . i.e hyper parameter tunning . and try to get the better result as   compared to without hyper parameter tunnning.\n",
    "\n",
    "- For evaluating the quality of predictions we will use :\n",
    "\n",
    "1. mean absoulte error\n",
    "2. mean squared error\n",
    "3. root mean squared error\n",
    "4. R2 score"
   ]
  },
  {
   "cell_type": "code",
   "execution_count": 50,
   "metadata": {},
   "outputs": [],
   "source": [
    "# Creating function to evaluate our models\n",
    "\n",
    "from sklearn.metrics import mean_absolute_error , mean_squared_error, r2_score\n",
    "\n",
    "def model_evaluation(true_value, predicted_value):\n",
    "    mae = mean_absolute_error(true_value, predicted_value)\n",
    "    mse = mean_squared_error(true_value, predicted_value)\n",
    "    rmse = np.sqrt(mean_squared_error(true_value, predicted_value))\n",
    "    r2_square = r2_score(true_value, predicted_value)\n",
    "    return mae, mse,rmse, r2_square"
   ]
  },
  {
   "cell_type": "code",
   "execution_count": 51,
   "metadata": {},
   "outputs": [],
   "source": [
    "from sklearn.linear_model import LinearRegression , Ridge , Lasso\n",
    "from sklearn.neighbors import KNeighborsRegressor\n",
    "from sklearn.tree import DecisionTreeRegressor\n",
    "from sklearn.ensemble import RandomForestRegressor, AdaBoostRegressor\n",
    "\n",
    "from catboost import CatBoostRegressor\n",
    "from xgboost import XGBRegressor\n",
    "\n",
    "model_list = [LinearRegression() ,\n",
    "          Ridge() , \n",
    "          Lasso() ,\n",
    "          KNeighborsRegressor(),\n",
    "          RandomForestRegressor(), \n",
    "          DecisionTreeRegressor(),  \n",
    "          CatBoostRegressor(verbose=False) ,\n",
    "          XGBRegressor(),\n",
    "          AdaBoostRegressor()\n",
    "          ]"
   ]
  },
  {
   "cell_type": "code",
   "execution_count": 52,
   "metadata": {},
   "outputs": [
    {
     "name": "stdout",
     "output_type": "stream",
     "text": [
      "Linear Regression\n",
      "Model performance for Training set\n",
      "---> Mean Absolute Error: 3429.524127903677\n",
      "---> Mean Squared Error: 27396574.74979442\n",
      "---> Root Mean Squared Error: 5234.173740887326\n",
      "---> R2 Score: 0.7253525382757413\n",
      "__________________________________________________________\n",
      "Model performance for Test set\n",
      "---> Mean Absolute Error: 3151.5021213468863\n",
      "---> Mean Squared Error: 20908020.127935823\n",
      "---> Root Mean Squared Error: 4572.528854795322\n",
      "---> R2 Score: 0.8210752273395316\n",
      "*********************************************\n",
      "\n",
      "\n",
      "Ridge\n",
      "Model performance for Training set\n",
      "---> Mean Absolute Error: 3434.716128795149\n",
      "---> Mean Squared Error: 27397129.462729692\n",
      "---> Root Mean Squared Error: 5234.226730160788\n",
      "---> R2 Score: 0.7253469773433603\n",
      "__________________________________________________________\n",
      "Model performance for Test set\n",
      "---> Mean Absolute Error: 3160.199891104523\n",
      "---> Mean Squared Error: 20945337.886458687\n",
      "---> Root Mean Squared Error: 4576.607683258277\n",
      "---> R2 Score: 0.8207558727847224\n",
      "*********************************************\n",
      "\n",
      "\n",
      "Lasso\n",
      "Model performance for Training set\n",
      "---> Mean Absolute Error: 3429.9973932954867\n",
      "---> Mean Squared Error: 27396607.07225447\n",
      "---> Root Mean Squared Error: 5234.176828523705\n",
      "---> R2 Score: 0.7253522142468549\n",
      "__________________________________________________________\n",
      "Model performance for Test set\n",
      "---> Mean Absolute Error: 3152.4975361365587\n",
      "---> Mean Squared Error: 20917042.080239516\n",
      "---> Root Mean Squared Error: 4573.515286979974\n",
      "---> R2 Score: 0.8209980200881988\n",
      "*********************************************\n",
      "\n",
      "\n",
      "KNeighbors Regressor\n",
      "Model performance for Training set\n",
      "---> Mean Absolute Error: 2604.6032478952297\n",
      "---> Mean Squared Error: 18896264.98633285\n",
      "---> Root Mean Squared Error: 4346.98343524942\n",
      "---> R2 Score: 0.8105671507492285\n",
      "__________________________________________________________\n",
      "Model performance for Test set\n",
      "---> Mean Absolute Error: 3264.114186567165\n",
      "---> Mean Squared Error: 26250688.15379993\n",
      "---> Root Mean Squared Error: 5123.542539474024\n",
      "---> R2 Score: 0.7753542238165423\n",
      "*********************************************\n",
      "\n",
      "\n",
      "Random Forest Regressor\n",
      "Model performance for Training set\n",
      "---> Mean Absolute Error: 958.6053328344257\n",
      "---> Mean Squared Error: 3044562.075231635\n",
      "---> Root Mean Squared Error: 1744.8673517581888\n",
      "---> R2 Score: 0.9694786208253795\n",
      "__________________________________________________________\n",
      "Model performance for Test set\n",
      "---> Mean Absolute Error: 2244.1122626865695\n",
      "---> Mean Squared Error: 18315708.328356937\n",
      "---> Root Mean Squared Error: 4279.685540826211\n",
      "---> R2 Score: 0.843259479916607\n",
      "*********************************************\n",
      "\n",
      "\n",
      "Decision Tree Regressor\n",
      "Model performance for Training set\n",
      "---> Mean Absolute Error: 1.3884895727721411e-12\n",
      "---> Mean Squared Error: 3.030777383767726e-23\n",
      "---> Root Mean Squared Error: 5.5052496617026605e-12\n",
      "---> R2 Score: 1.0\n",
      "__________________________________________________________\n",
      "Model performance for Test set\n",
      "---> Mean Absolute Error: 2435.989141791047\n",
      "---> Mean Squared Error: 33019184.905527983\n",
      "---> Root Mean Squared Error: 5746.23223560691\n",
      "---> R2 Score: 0.7174313915662548\n",
      "*********************************************\n",
      "\n",
      "\n",
      "Cat Boost Regressor\n",
      "Model performance for Training set\n",
      "---> Mean Absolute Error: 1451.755515870623\n",
      "---> Mean Squared Error: 7041753.736423919\n",
      "---> Root Mean Squared Error: 2653.6302938472645\n",
      "---> R2 Score: 0.9294072413263759\n",
      "__________________________________________________________\n",
      "Model performance for Test set\n",
      "---> Mean Absolute Error: 2371.769162328363\n",
      "---> Mean Squared Error: 16953129.043699693\n",
      "---> Root Mean Squared Error: 4117.417764048202\n",
      "---> R2 Score: 0.8549200382692084\n",
      "*********************************************\n",
      "\n",
      "\n",
      "XGB Regressor\n",
      "Model performance for Training set\n",
      "---> Mean Absolute Error: 446.20282216056916\n",
      "---> Mean Squared Error: 577367.3599766102\n",
      "---> Root Mean Squared Error: 759.8469319386702\n",
      "---> R2 Score: 0.9942119596574311\n",
      "__________________________________________________________\n",
      "Model performance for Test set\n",
      "---> Mean Absolute Error: 2642.4389193042352\n",
      "---> Mean Squared Error: 22447370.72951046\n",
      "---> Root Mean Squared Error: 4737.865630166231\n",
      "---> R2 Score: 0.8079019113227037\n",
      "*********************************************\n",
      "\n",
      "\n",
      "AdaBoostRegressor\n",
      "Model performance for Training set\n",
      "---> Mean Absolute Error: 3604.9477498846586\n",
      "---> Mean Squared Error: 22445736.402435075\n",
      "---> Root Mean Squared Error: 4737.693151992336\n",
      "---> R2 Score: 0.7749841144098919\n",
      "__________________________________________________________\n",
      "Model performance for Test set\n",
      "---> Mean Absolute Error: 3306.1455990682016\n",
      "---> Mean Squared Error: 18291809.14303712\n",
      "---> Root Mean Squared Error: 4276.892463347322\n",
      "---> R2 Score: 0.8434640022135032\n",
      "*********************************************\n",
      "\n",
      "\n"
     ]
    }
   ],
   "source": [
    "r2 = []\n",
    "model_list_name = [\"Linear Regression\", \"Ridge\", \"Lasso\", \"KNeighbors Regressor\",\"Random Forest Regressor\", \"Decision Tree Regressor\" , \"Cat Boost Regressor\", \"XGB Regressor\", \"AdaBoostRegressor\"]\n",
    "for model in range(len(model_list)) :\n",
    "\n",
    "    # Training our model\n",
    "    model_list[model].fit(X_train, y_train)\n",
    "\n",
    "    # Making predictions\n",
    "    y_train_predicted = model_list[model].predict(X_train)\n",
    "    y_test_predicted = model_list[model].predict(X_test)\n",
    "\n",
    "    # Evaluating train and test dataset\n",
    "    model_train_mae , model_train_mse, model_train_rmse, model_train_r2 = model_evaluation(y_train, y_train_predicted)\n",
    "    model_test_mae , model_test_mse, model_test_rmse, model_test_r2 = model_evaluation(y_test, y_test_predicted)\n",
    "\n",
    "    r2.append(model_test_r2)\n",
    "    \n",
    "    print(model_list_name[model])\n",
    "    print('Model performance for Training set')\n",
    "\n",
    "    print(f\"---> Mean Absolute Error: {model_train_mae}\")\n",
    "    print(f\"---> Mean Squared Error: {model_train_mse}\")\n",
    "    print(f\"---> Root Mean Squared Error: {model_train_rmse}\")\n",
    "    print(f\"---> R2 Score: {model_train_r2}\")\n",
    "\n",
    "    print(\"__________________________________________________________\")\n",
    "    \n",
    "    print('Model performance for Test set')\n",
    "\n",
    "\n",
    "    print(f\"---> Mean Absolute Error: {model_test_mae}\")\n",
    "    print(f\"---> Mean Squared Error: {model_test_mse}\")\n",
    "    print(f\"---> Root Mean Squared Error: {model_test_rmse}\")\n",
    "    print(f\"---> R2 Score: {model_test_r2}\")\n",
    "\n",
    "    \n",
    "    print('*'*45)\n",
    "    print('\\n')"
   ]
  },
  {
   "cell_type": "markdown",
   "metadata": {},
   "source": [
    "Result (r2 score) of all model at one place"
   ]
  },
  {
   "cell_type": "code",
   "execution_count": 53,
   "metadata": {},
   "outputs": [
    {
     "data": {
      "text/html": [
       "<div>\n",
       "<style scoped>\n",
       "    .dataframe tbody tr th:only-of-type {\n",
       "        vertical-align: middle;\n",
       "    }\n",
       "\n",
       "    .dataframe tbody tr th {\n",
       "        vertical-align: top;\n",
       "    }\n",
       "\n",
       "    .dataframe thead th {\n",
       "        text-align: right;\n",
       "    }\n",
       "</style>\n",
       "<table border=\"1\" class=\"dataframe\">\n",
       "  <thead>\n",
       "    <tr style=\"text-align: right;\">\n",
       "      <th></th>\n",
       "      <th>Model</th>\n",
       "      <th>R2_square</th>\n",
       "    </tr>\n",
       "  </thead>\n",
       "  <tbody>\n",
       "    <tr>\n",
       "      <th>0</th>\n",
       "      <td>Cat Boost Regressor</td>\n",
       "      <td>0.854920</td>\n",
       "    </tr>\n",
       "    <tr>\n",
       "      <th>1</th>\n",
       "      <td>AdaBoostRegressor</td>\n",
       "      <td>0.843464</td>\n",
       "    </tr>\n",
       "    <tr>\n",
       "      <th>2</th>\n",
       "      <td>Random Forest Regressor</td>\n",
       "      <td>0.843259</td>\n",
       "    </tr>\n",
       "    <tr>\n",
       "      <th>3</th>\n",
       "      <td>Linear Regression</td>\n",
       "      <td>0.821075</td>\n",
       "    </tr>\n",
       "    <tr>\n",
       "      <th>4</th>\n",
       "      <td>Lasso</td>\n",
       "      <td>0.820998</td>\n",
       "    </tr>\n",
       "    <tr>\n",
       "      <th>5</th>\n",
       "      <td>Ridge</td>\n",
       "      <td>0.820756</td>\n",
       "    </tr>\n",
       "    <tr>\n",
       "      <th>6</th>\n",
       "      <td>XGB Regressor</td>\n",
       "      <td>0.807902</td>\n",
       "    </tr>\n",
       "    <tr>\n",
       "      <th>7</th>\n",
       "      <td>KNeighbors Regressor</td>\n",
       "      <td>0.775354</td>\n",
       "    </tr>\n",
       "    <tr>\n",
       "      <th>8</th>\n",
       "      <td>Decision Tree Regressor</td>\n",
       "      <td>0.717431</td>\n",
       "    </tr>\n",
       "  </tbody>\n",
       "</table>\n",
       "</div>"
      ],
      "text/plain": [
       "                     Model  R2_square\n",
       "0      Cat Boost Regressor   0.854920\n",
       "1        AdaBoostRegressor   0.843464\n",
       "2  Random Forest Regressor   0.843259\n",
       "3        Linear Regression   0.821075\n",
       "4                    Lasso   0.820998\n",
       "5                    Ridge   0.820756\n",
       "6            XGB Regressor   0.807902\n",
       "7     KNeighbors Regressor   0.775354\n",
       "8  Decision Tree Regressor   0.717431"
      ]
     },
     "execution_count": 53,
     "metadata": {},
     "output_type": "execute_result"
    }
   ],
   "source": [
    "pd.DataFrame(zip(model_list_name, r2) ,columns= [\"Model\" , \"R2_square\"]).sort_values(by=['R2_square'], ascending= False).reset_index(drop=True)"
   ]
  },
  {
   "cell_type": "markdown",
   "metadata": {},
   "source": [
    "Here we can use top three with high r2 square score for hyper parameter tunning in order to improve the score. So we will use Random Forest Regressor,Cat Boost Regressor and AdaBoostRegressor.\n",
    "\n",
    " "
   ]
  },
  {
   "cell_type": "code",
   "execution_count": null,
   "metadata": {},
   "outputs": [],
   "source": []
  }
 ],
 "metadata": {
  "kernelspec": {
   "display_name": "base",
   "language": "python",
   "name": "python3"
  },
  "language_info": {
   "codemirror_mode": {
    "name": "ipython",
    "version": 3
   },
   "file_extension": ".py",
   "mimetype": "text/x-python",
   "name": "python",
   "nbconvert_exporter": "python",
   "pygments_lexer": "ipython3",
   "version": "3.10.9"
  },
  "orig_nbformat": 4
 },
 "nbformat": 4,
 "nbformat_minor": 2
}
